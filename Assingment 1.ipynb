{
 "cells": [
  {
   "cell_type": "code",
   "execution_count": 59,
   "id": "c3cd47c0-f662-4a4a-ba12-d6f0c4576bd1",
   "metadata": {},
   "outputs": [
    {
     "name": "stdout",
     "output_type": "stream",
     "text": [
      "<class 'str'>\n",
      "<class 'list'>\n",
      "<class 'float'>\n",
      "<class 'tuple'>\n"
     ]
    }
   ],
   "source": [
    "a = \"ashish\"\n",
    "print(type(a))\n",
    "b = [2 ,5+1j ,3.5,'ashish']\n",
    "print(type(b))\n",
    "c=9.6\n",
    "print(type(c))\n",
    "d=(1,2,\"ashish\")\n",
    "print(type(d))"
   ]
  },
  {
   "cell_type": "code",
   "execution_count": 49,
   "id": "68ccfe20-65aa-4db6-af28-3543943a2d92",
   "metadata": {},
   "outputs": [],
   "source": [
    "#Answer Q2\n",
    "#1) string\n",
    "#2) string\n",
    "#3)list\n",
    "#4)float"
   ]
  },
  {
   "cell_type": "code",
   "execution_count": 6,
   "id": "5ac43206-62e8-49a0-b30a-925176cb0e42",
   "metadata": {},
   "outputs": [
    {
     "name": "stdout",
     "output_type": "stream",
     "text": [
      "<class 'int'>\n",
      "2\n",
      "<class 'int'>\n",
      "3\n",
      "<class 'int'>\n",
      "4\n",
      "<class 'int'>\n",
      "5\n",
      "<class 'float'>\n",
      "2.3\n",
      "<class 'str'>\n",
      "ashish\n",
      "<class 'bool'>\n",
      "True\n",
      "<class 'bool'>\n",
      "False\n",
      "<class 'str'>\n",
      "school\n",
      "<class 'complex'>\n",
      "(5+2j)\n"
     ]
    }
   ],
   "source": [
    "l = [2,3,4,5,2.3,\"ashish\", True, False, \"school\", 5+2j]\n",
    "for i in l:\n",
    "\n",
    "    print(type(i))\n",
    "    print(i)"
   ]
  },
  {
   "cell_type": "code",
   "execution_count": 23,
   "id": "4630ab81-b257-4e08-87d5-bf30598c1582",
   "metadata": {},
   "outputs": [
    {
     "name": "stdin",
     "output_type": "stream",
     "text": [
      " 18\n",
      " 6\n"
     ]
    },
    {
     "name": "stdout",
     "output_type": "stream",
     "text": [
      "n is divisible by m and n is divisible by m for 3.0 times\n"
     ]
    }
   ],
   "source": [
    "n=int(input())\n",
    "m=int(input())\n",
    "while n%m==0:\n",
    "    print('n is divisible by m', 'and n is divisible by m for', n/m, 'times')\n",
    "    break\n",
    "else:\n",
    "    print('n is not divisible by m')"
   ]
  },
  {
   "cell_type": "code",
   "execution_count": 48,
   "id": "2d9820dd-b535-43d4-9d66-83f84b3069c4",
   "metadata": {},
   "outputs": [
    {
     "name": "stdout",
     "output_type": "stream",
     "text": [
      "1 is not div by 3\n",
      "2 is not div by 3\n",
      "3 is div by 3\n",
      "4 is not div by 3\n",
      "5 is not div by 3\n",
      "6 is div by 3\n",
      "7 is not div by 3\n",
      "8 is not div by 3\n",
      "9 is div by 3\n",
      "10 is not div by 3\n",
      "11 is not div by 3\n",
      "12 is div by 3\n",
      "13 is not div by 3\n",
      "14 is not div by 3\n",
      "15 is div by 3\n",
      "16 is not div by 3\n",
      "17 is not div by 3\n",
      "18 is div by 3\n",
      "19 is not div by 3\n",
      "20 is not div by 3\n",
      "21 is div by 3\n",
      "22 is not div by 3\n",
      "23 is not div by 3\n",
      "24 is div by 3\n",
      "25 is not div by 3\n"
     ]
    }
   ],
   "source": [
    "b= (1,2,3,4,5,6,7,8,9,10,11,12,13,14,15,16,17,18,19,20,21,22,23,24,25)\n",
    "type(b)\n",
    "\n",
    "list\n",
    "\n",
    "for i in b:\n",
    "    if i%3==0:\n",
    "        print(i, \"is div by 3\")\n",
    "    else:\n",
    "        print(i, \"is not div by 3\")\n",
    "        \n",
    "        \n",
    "        "
   ]
  },
  {
   "cell_type": "code",
   "execution_count": 63,
   "id": "09c87012-ddbf-49f0-8fd3-2494d9fc24d5",
   "metadata": {},
   "outputs": [
    {
     "data": {
      "text/plain": [
       "2.0"
      ]
     },
     "execution_count": 63,
     "metadata": {},
     "output_type": "execute_result"
    }
   ],
   "source": [
    "# / means divide \n",
    "4/2"
   ]
  },
  {
   "cell_type": "code",
   "execution_count": 64,
   "id": "e720001d-3f7c-469b-bb94-92d5fb3da61c",
   "metadata": {},
   "outputs": [
    {
     "data": {
      "text/plain": [
       "0"
      ]
     },
     "execution_count": 64,
     "metadata": {},
     "output_type": "execute_result"
    }
   ],
   "source": [
    "# % reminder\n",
    "6%3"
   ]
  },
  {
   "cell_type": "code",
   "execution_count": 65,
   "id": "f6b369bb-184d-4597-b4a8-06a3ee99391c",
   "metadata": {},
   "outputs": [
    {
     "data": {
      "text/plain": [
       "2"
      ]
     },
     "execution_count": 65,
     "metadata": {},
     "output_type": "execute_result"
    }
   ],
   "source": [
    "# // floor\n",
    "\n",
    "4//2"
   ]
  },
  {
   "cell_type": "code",
   "execution_count": 66,
   "id": "bdcc59c2-990f-4234-9bd8-c6317a788a63",
   "metadata": {},
   "outputs": [
    {
     "data": {
      "text/plain": [
       "27"
      ]
     },
     "execution_count": 66,
     "metadata": {},
     "output_type": "execute_result"
    }
   ],
   "source": [
    "# ** is power operator\n",
    "\n",
    "3**3"
   ]
  },
  {
   "cell_type": "code",
   "execution_count": 69,
   "id": "1080d1ac-9986-4fd0-a527-805a3a61d40a",
   "metadata": {},
   "outputs": [
    {
     "ename": "NameError",
     "evalue": "name 'Ashish' is not defined",
     "output_type": "error",
     "traceback": [
      "\u001b[0;31m---------------------------------------------------------------------------\u001b[0m",
      "\u001b[0;31mNameError\u001b[0m                                 Traceback (most recent call last)",
      "Cell \u001b[0;32mIn[69], line 7\u001b[0m\n\u001b[1;32m      4\u001b[0m \u001b[38;5;28mtype\u001b[39m(a)\n\u001b[1;32m      5\u001b[0m \u001b[38;5;28mstr\u001b[39m\n\u001b[0;32m----> 7\u001b[0m a[\u001b[38;5;241m0\u001b[39m]\u001b[38;5;241m=\u001b[39m\u001b[43mAshish\u001b[49m\n",
      "\u001b[0;31mNameError\u001b[0m: name 'Ashish' is not defined"
     ]
    }
   ],
   "source": [
    "#Immutable date type: A data type which cannot be eddited, which means we cannot do any changes in terms of adding, removing, replacing with the help of index value.\n",
    "#example\n",
    "a='ashu, 3, 6, 9'\n",
    "type(a)\n",
    "str\n",
    "\n",
    "a[0]=Ashish\n",
    "---------------------------------------------------------------------------\n",
    "NameError                                 Traceback (most recent call last)\n",
    "Cell In[69], line 7\n",
    "      4 type(a)\n",
    "      5 str\n",
    "----> 7 a[0]=Ashish\n",
    "\n",
    "NameError: name 'Ashish' is not defined"
   ]
  },
  {
   "cell_type": "code",
   "execution_count": 76,
   "id": "e31607ef-a660-4a37-977d-3615a4354253",
   "metadata": {},
   "outputs": [
    {
     "data": {
      "text/plain": [
       "list"
      ]
     },
     "execution_count": 76,
     "metadata": {},
     "output_type": "execute_result"
    }
   ],
   "source": [
    "b=[2,3,4,5,'ashu']\n",
    "type(b)\n"
   ]
  },
  {
   "cell_type": "code",
   "execution_count": 78,
   "id": "2dd33b97-5360-48f3-bc53-3d9b317e0d6c",
   "metadata": {},
   "outputs": [],
   "source": [
    "b[4]=\"ASHISH\""
   ]
  },
  {
   "cell_type": "code",
   "execution_count": 79,
   "id": "bc0db839-0782-497e-a1d5-a33b856f5bd4",
   "metadata": {},
   "outputs": [
    {
     "data": {
      "text/plain": [
       "[2, 3, 4, 5, 'ASHISH']"
      ]
     },
     "execution_count": 79,
     "metadata": {},
     "output_type": "execute_result"
    }
   ],
   "source": [
    "b"
   ]
  },
  {
   "cell_type": "code",
   "execution_count": null,
   "id": "ae365b9a-8e53-4902-80f1-d58bafdbbbc6",
   "metadata": {},
   "outputs": [],
   "source": [
    "#Mutable data type: A data type which can be eddited, which means we can do any changes in terms of adding, removing, replacing with the help of index value.\n"
   ]
  }
 ],
 "metadata": {
  "kernelspec": {
   "display_name": "Python 3 (ipykernel)",
   "language": "python",
   "name": "python3"
  },
  "language_info": {
   "codemirror_mode": {
    "name": "ipython",
    "version": 3
   },
   "file_extension": ".py",
   "mimetype": "text/x-python",
   "name": "python",
   "nbconvert_exporter": "python",
   "pygments_lexer": "ipython3",
   "version": "3.10.8"
  }
 },
 "nbformat": 4,
 "nbformat_minor": 5
}
